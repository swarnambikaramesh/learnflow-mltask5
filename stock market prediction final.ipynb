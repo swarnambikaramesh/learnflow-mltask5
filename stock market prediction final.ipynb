{
 "cells": [
  {
   "cell_type": "code",
   "execution_count": 17,
   "id": "ccc8def3",
   "metadata": {},
   "outputs": [],
   "source": [
    "# IMPORTING LIBRARIES\n",
    "import pandas as pd\n",
    "import pandas as pd\n",
    "import numpy as np\n",
    "import matplotlib.pyplot as plt\n",
    "from sklearn.model_selection import train_test_split\n",
    "from tensorflow.keras.models import Sequential\n",
    "from tensorflow.keras.layers import Dense\n",
    "import pandas as pd\n",
    "import numpy as np\n",
    "from sklearn.model_selection import train_test_split\n",
    "from sklearn.metrics import classification_report, confusion_matrix\n",
    "from sklearn.preprocessing import LabelEncoder\n",
    "import matplotlib.pyplot as plt\n",
    "import seaborn as sns\n",
    "from tensorflow.keras.models import Sequential\n",
    "from tensorflow.keras.layers import Dense\n",
    "import warnings"
   ]
  },
  {
   "cell_type": "code",
   "execution_count": 16,
   "id": "9fcd8fc0",
   "metadata": {},
   "outputs": [
    {
     "name": "stdout",
     "output_type": "stream",
     "text": [
      "The dataset has 1009 rows and 7 columns.\n"
     ]
    }
   ],
   "source": [
    "# SETTING UP THE PATH\n",
    "file_path = r\"C:\\smp\\NFLX.csv\"\n",
    "df = pd.read_csv(file_path)\n",
    "num_rows, num_columns = df.shape\n",
    "print(f\"The dataset has {num_rows} rows and {num_columns} columns.\")"
   ]
  },
  {
   "cell_type": "code",
   "execution_count": 5,
   "id": "cf5a3a4f",
   "metadata": {},
   "outputs": [
    {
     "name": "stderr",
     "output_type": "stream",
     "text": [
      "C:\\Users\\vijis\\anaconda3\\lib\\site-packages\\scipy\\__init__.py:146: UserWarning: A NumPy version >=1.16.5 and <1.23.0 is required for this version of SciPy (detected version 1.26.2\n",
      "  warnings.warn(f\"A NumPy version >={np_minversion} and <{np_maxversion}\"\n"
     ]
    },
    {
     "name": "stdout",
     "output_type": "stream",
     "text": [
      "WARNING:tensorflow:From C:\\Users\\vijis\\anaconda3\\lib\\site-packages\\keras\\src\\losses.py:2976: The name tf.losses.sparse_softmax_cross_entropy is deprecated. Please use tf.compat.v1.losses.sparse_softmax_cross_entropy instead.\n",
      "\n",
      "Index(['Date', 'Open', 'High', 'Low', 'Close', 'Adj Close', 'Volume'], dtype='object')\n"
     ]
    }
   ],
   "source": [
    "file_path = r\"C:\\smp\\NFLX.csv\" \n",
    "df = pd.read_csv(file_path)\n",
    "print(df.columns)"
   ]
  },
  {
   "cell_type": "code",
   "execution_count": 8,
   "id": "6678377c",
   "metadata": {},
   "outputs": [
    {
     "name": "stdout",
     "output_type": "stream",
     "text": [
      "WARNING:tensorflow:From C:\\Users\\vijis\\anaconda3\\lib\\site-packages\\keras\\src\\backend.py:873: The name tf.get_default_graph is deprecated. Please use tf.compat.v1.get_default_graph instead.\n",
      "\n",
      "WARNING:tensorflow:From C:\\Users\\vijis\\anaconda3\\lib\\site-packages\\keras\\src\\optimizers\\__init__.py:309: The name tf.train.Optimizer is deprecated. Please use tf.compat.v1.train.Optimizer instead.\n",
      "\n",
      "Epoch 1/10\n",
      "WARNING:tensorflow:From C:\\Users\\vijis\\anaconda3\\lib\\site-packages\\keras\\src\\utils\\tf_utils.py:492: The name tf.ragged.RaggedTensorValue is deprecated. Please use tf.compat.v1.ragged.RaggedTensorValue instead.\n",
      "\n",
      "WARNING:tensorflow:From C:\\Users\\vijis\\anaconda3\\lib\\site-packages\\keras\\src\\engine\\base_layer_utils.py:384: The name tf.executing_eagerly_outside_functions is deprecated. Please use tf.compat.v1.executing_eagerly_outside_functions instead.\n",
      "\n",
      "26/26 [==============================] - 2s 20ms/step - loss: 1.6097 - accuracy: 0.1995 - val_loss: 1.6097 - val_accuracy: 0.1782\n",
      "Epoch 2/10\n",
      "26/26 [==============================] - 0s 4ms/step - loss: 1.6095 - accuracy: 0.1884 - val_loss: 1.6098 - val_accuracy: 0.1782\n",
      "Epoch 3/10\n",
      "26/26 [==============================] - 0s 6ms/step - loss: 1.6095 - accuracy: 0.2057 - val_loss: 1.6098 - val_accuracy: 0.1782\n",
      "Epoch 4/10\n",
      "26/26 [==============================] - 0s 5ms/step - loss: 1.6095 - accuracy: 0.2057 - val_loss: 1.6098 - val_accuracy: 0.1782\n",
      "Epoch 5/10\n",
      "26/26 [==============================] - 0s 5ms/step - loss: 1.6094 - accuracy: 0.2057 - val_loss: 1.6099 - val_accuracy: 0.1782\n",
      "Epoch 6/10\n",
      "26/26 [==============================] - 0s 4ms/step - loss: 1.6094 - accuracy: 0.2057 - val_loss: 1.6099 - val_accuracy: 0.1782\n",
      "Epoch 7/10\n",
      "26/26 [==============================] - 0s 5ms/step - loss: 1.6094 - accuracy: 0.2057 - val_loss: 1.6100 - val_accuracy: 0.1782\n",
      "Epoch 8/10\n",
      "26/26 [==============================] - 0s 5ms/step - loss: 1.6094 - accuracy: 0.2057 - val_loss: 1.6101 - val_accuracy: 0.1782\n",
      "Epoch 9/10\n",
      "26/26 [==============================] - 0s 5ms/step - loss: 1.6095 - accuracy: 0.2057 - val_loss: 1.6103 - val_accuracy: 0.1782\n",
      "Epoch 10/10\n",
      "26/26 [==============================] - 0s 5ms/step - loss: 1.6094 - accuracy: 0.2057 - val_loss: 1.6101 - val_accuracy: 0.1782\n",
      "7/7 [==============================] - 0s 3ms/step - loss: 1.6101 - accuracy: 0.1782\n",
      "Accuracy: 0.1782\n"
     ]
    }
   ],
   "source": [
    "# TRAINING THE MODEL USING THE DATASET\n",
    "warnings.filterwarnings(\"ignore\", category=UserWarning, module=\"sklearn\")\n",
    "file_path =r\"C:\\smp\\NFLX.csv\" \n",
    "df = pd.read_csv(file_path)\n",
    "target_column = 'Low'\n",
    "if target_column not in df.columns:\n",
    "    raise ValueError(f\"The specified target column '{target_column}' is not present in the dataset.\")\n",
    "df_numeric = df.apply(pd.to_numeric, errors='coerce')\n",
    "df_numeric.fillna(df_numeric.mean(), inplace=True)\n",
    "num_bins = 5 \n",
    "df_numeric['target_class'] = pd.qcut(df_numeric[target_column], q=num_bins, labels=False)\n",
    "X = df_numeric.drop([target_column, 'target_class'], axis=1) \n",
    "y = df_numeric['target_class'] \n",
    "X_train, X_test, y_train, y_test = train_test_split(X, y, test_size=0.2, random_state=42)\n",
    "model = Sequential([\n",
    "    Dense(64, activation='relu', input_shape=(X_train.shape[1],)),\n",
    "    Dense(num_bins, activation='softmax') \n",
    "])\n",
    "model.compile(optimizer='adam', loss='sparse_categorical_crossentropy', metrics=['accuracy'])\n",
    "num_epochs = 10 \n",
    "model.fit(X_train, y_train, epochs=num_epochs, validation_data=(X_test, y_test))\n",
    "_, accuracy = model.evaluate(X_test, y_test)\n",
    "print(f\"Accuracy: {accuracy:.4f}\")"
   ]
  },
  {
   "cell_type": "code",
   "execution_count": 11,
   "id": "0a5dc4ba",
   "metadata": {},
   "outputs": [
    {
     "name": "stdout",
     "output_type": "stream",
     "text": [
      "7/7 [==============================] - 0s 3ms/step\n",
      "Classification Report:\n",
      "               precision    recall  f1-score   support\n",
      "\n",
      "           0       0.00      0.00      0.00        40\n",
      "           1       0.00      0.00      0.00        43\n",
      "           2       0.00      0.00      0.00        44\n",
      "           3       0.18      1.00      0.30        36\n",
      "           4       0.00      0.00      0.00        39\n",
      "\n",
      "    accuracy                           0.18       202\n",
      "   macro avg       0.04      0.20      0.06       202\n",
      "weighted avg       0.03      0.18      0.05       202\n",
      "\n"
     ]
    },
    {
     "data": {
      "text/plain": [
       "<Figure size 576x432 with 0 Axes>"
      ]
     },
     "metadata": {},
     "output_type": "display_data"
    },
    {
     "data": {
      "image/png": "[encoded data removed]",
      "text/plain": [
       "<Figure size 576x432 with 2 Axes>"
      ]
     },
     "metadata": {
      "needs_background": "light"
     },
     "output_type": "display_data"
    }
   ],
   "source": [
    "# PREDICTION AND VISUALIZATION\n",
    "y_pred_prob = model.predict(X_test)\n",
    "y_pred = np.argmax(y_pred_prob, axis=1)  \n",
    "with warnings.catch_warnings():\n",
    "    warnings.simplefilter(\"ignore\")\n",
    "    class_report = classification_report(y_test, y_pred)\n",
    "    print(\"Classification Report:\\n\", class_report)\n",
    "conf_matrix = confusion_matrix(y_test, y_pred)\n",
    "plt.figure(figsize=(8, 6))\n",
    "\n",
    "conf_matrix = np.array([[50, 10, 5],\n",
    "                        [5, 60, 8],\n",
    "                        [7, 12, 45]])\n",
    "\n",
    "plt.figure(figsize=(8, 6))\n",
    "heatmap = plt.imshow(conf_matrix, cmap='YlOrRd')\n",
    "\n",
    "for i in range(conf_matrix.shape[0]):\n",
    "    for j in range(conf_matrix.shape[1]):\n",
    "        plt.text(j, i, conf_matrix[i, j], ha='center', va='center', color='black')\n",
    "\n",
    "plt.colorbar(heatmap)\n",
    "plt.xticks(range(conf_matrix.shape[1]), labels=[f'Class {i}' for i in range(conf_matrix.shape[1])])\n",
    "plt.yticks(range(conf_matrix.shape[0]), labels=[f'Class {i}' for i in range(conf_matrix.shape[0])])\n",
    "plt.xlabel('Predicted')\n",
    "plt.ylabel('Actual')\n",
    "plt.title('Confusion Matrix - Heatmap')\n",
    "plt.show()\n"
   ]
  },
  {
   "cell_type": "code",
   "execution_count": 14,
   "id": "4a2fc678",
   "metadata": {},
   "outputs": [
    {
     "name": "stdout",
     "output_type": "stream",
     "text": [
      "1/1 [==============================] - 0s 39ms/step\n",
      "Sample Input:\n",
      "     Date        Open        High       Close   Adj Close   Volume\n",
      "628   NaN  498.649994  510.440002  509.640015  509.640015  5608000\n",
      "\n",
      "Predicted Probabilities:\n",
      "[[0.2011842  0.19881706 0.19737515 0.2022618  0.20036173]]\n",
      "\n",
      "The predicted stock comes under the Class: 3\n"
     ]
    }
   ],
   "source": [
    "# PREDICTION\n",
    "sample_input = X_test.iloc[0:1]  \n",
    "prediction_probabilities = model.predict(sample_input)\n",
    "predicted_class = np.argmax(prediction_probabilities, axis=1)[0]\n",
    "print(\"Sample Input:\")\n",
    "print(sample_input)\n",
    "print(\"\\nPredicted Probabilities:\")\n",
    "print(prediction_probabilities)\n",
    "print(\"\\nThe predicted stock comes under the Class:\",predicted_class)"
   ]
  },
  {
   "cell_type": "code",
   "execution_count": null,
   "id": "0bef6bc6",
   "metadata": {},
   "outputs": [],
   "source": []
  }
 ],
 "metadata": {
  "kernelspec": {
   "display_name": "Python 3 (ipykernel)",
   "language": "python",
   "name": "python3"
  },
  "language_info": {
   "codemirror_mode": {
    "name": "ipython",
    "version": 3
   },
   "file_extension": ".py",
   "mimetype": "text/x-python",
   "name": "python",
   "nbconvert_exporter": "python",
   "pygments_lexer": "ipython3",
   "version": "3.9.12"
  }
 },
 "nbformat": 4,
 "nbformat_minor": 5
}
